{
 "cells": [
  {
   "cell_type": "markdown",
   "metadata": {},
   "source": [
    "# Titanic: Machine Learning from Disaster \n",
    "## ML Model - 01\n",
    "#### 0. Descrição\n",
    "Modelo de regressão logística com dataset modificado em 'data_processing.ipynb'\n",
    "#### 1. Leitura dados"
   ]
  },
  {
   "cell_type": "code",
   "execution_count": 1,
   "metadata": {},
   "outputs": [],
   "source": [
    "import pandas as pd\n",
    "import numpy as np\n",
    "import seaborn as sns\n",
    "import matplotlib.pyplot as plt\n",
    "\n",
    "datapaths = [\"../data/train_upgrade.csv\", \"../data/test_upgrade.csv\"]\n",
    "(train_data, test_data) = [pd.read_csv(path) for path in datapaths]"
   ]
  },
  {
   "cell_type": "markdown",
   "metadata": {},
   "source": [
    "#### 2. Treinando modelo"
   ]
  },
  {
   "cell_type": "code",
   "execution_count": 2,
   "metadata": {},
   "outputs": [
    {
     "name": "stdout",
     "output_type": "stream",
     "text": [
      "Accuracy: 0.7835820895522388\n"
     ]
    }
   ],
   "source": [
    "y = train_data.Survived\n",
    "features = ['AgeGroup', 'Sex', 'Pclass', 'MissingAge']\n",
    "X = train_data[features]\n",
    "\n",
    "from sklearn.linear_model import LogisticRegression\n",
    "from sklearn.model_selection import train_test_split\n",
    "from sklearn.metrics import classification_report, accuracy_score\n",
    "X_train, X_test, y_train, y_test = train_test_split(X, y, test_size=0.30, random_state=42)\n",
    "logmodel = LogisticRegression(random_state=42)\n",
    "logmodel.fit(X_train,y_train)\n",
    "test_preds = logmodel.predict(X_test)\n",
    "\n",
    "#print(classification_report(y_test,test_preds))\n",
    "print(\"Accuracy:\", accuracy_score(y_test, test_preds))\n",
    "\n",
    "logmodel_sub = LogisticRegression(random_state=42)\n",
    "_ = logmodel_sub.fit(X,y)"
   ]
  },
  {
   "cell_type": "markdown",
   "metadata": {},
   "source": [
    "#### 3. Predição nos dados de teste"
   ]
  },
  {
   "cell_type": "code",
   "execution_count": 3,
   "metadata": {},
   "outputs": [],
   "source": [
    "X_test_sub= test_data[features]\n",
    "test_preds_subs = logmodel_sub.predict(X_test_sub)\n",
    "output = pd.DataFrame({'PassengerId': test_data.PassengerId,\n",
    "                       'Survived': test_preds_subs})\n",
    "output.to_csv('../data/submission.csv', index=False)"
   ]
  },
  {
   "cell_type": "markdown",
   "metadata": {},
   "source": [
    "#### 4. Conclusão\n",
    "\n",
    "O arquivo enviado na plataforma Kaggle obteve pontuação (*Accuracy*) de 0.765.\n",
    "\n",
    "Novos modelos e abordagens dos dados serão realizados, buscando melhor pontuação e abordagem de outros ferramentas de ML e/ou redes neurais. "
   ]
  }
 ],
 "metadata": {
  "kernelspec": {
   "display_name": "Python 3.10.4 64-bit",
   "language": "python",
   "name": "python3"
  },
  "language_info": {
   "codemirror_mode": {
    "name": "ipython",
    "version": 3
   },
   "file_extension": ".py",
   "mimetype": "text/x-python",
   "name": "python",
   "nbconvert_exporter": "python",
   "pygments_lexer": "ipython3",
   "version": "3.10.4"
  },
  "orig_nbformat": 4,
  "vscode": {
   "interpreter": {
    "hash": "2d5831db638ce20437bfcc4f040313ad94010fcf633d33aaeda7cb3268b888a1"
   }
  }
 },
 "nbformat": 4,
 "nbformat_minor": 2
}
